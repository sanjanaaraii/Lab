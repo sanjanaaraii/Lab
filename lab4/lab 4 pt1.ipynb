{
 "cells": [
  {
   "cell_type": "markdown",
   "id": "36f61451-51fb-4c20-bb57-3fa2e8be2d52",
   "metadata": {},
   "source": [
    "# LAB 4"
   ]
  },
  {
   "cell_type": "markdown",
   "id": "31129478-645d-48a7-9476-8cd1676a1bfc",
   "metadata": {},
   "source": [
    "# disarium number"
   ]
  },
  {
   "cell_type": "code",
   "execution_count": 23,
   "id": "5687c580-6c30-498a-9d5b-25ab29f66314",
   "metadata": {},
   "outputs": [
    {
     "name": "stdin",
     "output_type": "stream",
     "text": [
      "enter number 175\n"
     ]
    },
    {
     "name": "stdout",
     "output_type": "stream",
     "text": [
      "yes\n"
     ]
    }
   ],
   "source": [
    "n=int(input(\"enter number\"))\n",
    "num=n\n",
    "c=0\n",
    "d=0\n",
    "while(num!=0):\n",
    "    num=num//10\n",
    "    c+=1\n",
    "sum=0\n",
    "num=n\n",
    "for i in range(c,0,-1):\n",
    "    d=num%10\n",
    "    num=num//10\n",
    "    sum=sum+d**i\n",
    "if(n==sum):\n",
    "    print(\"yes\")\n",
    "else:\n",
    "    print(\"no\")"
   ]
  },
  {
   "cell_type": "markdown",
   "id": "e786e1a7-ec45-48a3-b2c0-13f27717c66e",
   "metadata": {},
   "source": [
    "# harshad number"
   ]
  },
  {
   "cell_type": "code",
   "execution_count": 31,
   "id": "01680864-97ad-4260-b905-b9754fa72304",
   "metadata": {},
   "outputs": [
    {
     "name": "stdin",
     "output_type": "stream",
     "text": [
      "enter number 12\n"
     ]
    },
    {
     "name": "stdout",
     "output_type": "stream",
     "text": [
      "yes\n"
     ]
    }
   ],
   "source": [
    "n=int(input(\"enter number\"))\n",
    "num=n\n",
    "sum=0\n",
    "while(num!=0):\n",
    "    d=num%10\n",
    "    num=num//10\n",
    "    sum=sum+d\n",
    "if(n%sum==0):\n",
    "    print(\"yes\")\n",
    "else:\n",
    "    print(\"no\")"
   ]
  },
  {
   "cell_type": "markdown",
   "id": "d5104f65-3a9e-4492-90b6-174aa36bbb8b",
   "metadata": {},
   "source": [
    "# x^n"
   ]
  },
  {
   "cell_type": "code",
   "execution_count": 62,
   "id": "422ee496-2efc-4320-9044-930a2b2a1cd4",
   "metadata": {},
   "outputs": [
    {
     "name": "stdin",
     "output_type": "stream",
     "text": [
      "enter exponent 2\n",
      "enter number 3\n"
     ]
    },
    {
     "name": "stdout",
     "output_type": "stream",
     "text": [
      "9\n"
     ]
    }
   ],
   "source": [
    "n=int(input(\"enter exponent\"))\n",
    "x=int(input(\"enter number\"))\n",
    "ans=x**n\n",
    "print(ans)"
   ]
  },
  {
   "cell_type": "markdown",
   "id": "c8ee96a4-d893-4e79-88ae-b0bd508ee310",
   "metadata": {},
   "source": [
    "# sum of digits"
   ]
  },
  {
   "cell_type": "code",
   "execution_count": 68,
   "id": "1816ae06-2d74-46b7-b436-5de647521192",
   "metadata": {},
   "outputs": [
    {
     "name": "stdin",
     "output_type": "stream",
     "text": [
      "enter number 12\n"
     ]
    },
    {
     "name": "stdout",
     "output_type": "stream",
     "text": [
      "sum of 12 is 3\n"
     ]
    }
   ],
   "source": [
    "n=int(input(\"enter number\"))\n",
    "num=n\n",
    "sum=0\n",
    "while(num!=0):\n",
    "    d=num%10\n",
    "    num=num//10\n",
    "    sum=sum+d\n",
    "print(f\"sum of {n} is {sum}\")\n"
   ]
  },
  {
   "cell_type": "markdown",
   "id": "11445267-69b4-422d-aea7-652a40f45990",
   "metadata": {},
   "source": [
    "# reverse"
   ]
  },
  {
   "cell_type": "code",
   "execution_count": 75,
   "id": "390ad580-695f-4de4-b2b6-077bcc68a5c7",
   "metadata": {},
   "outputs": [
    {
     "name": "stdin",
     "output_type": "stream",
     "text": [
      "enter number 1234\n"
     ]
    },
    {
     "name": "stdout",
     "output_type": "stream",
     "text": [
      "reverse of 1234 is 4321\n"
     ]
    }
   ],
   "source": [
    "n=int(input(\"enter number\"))\n",
    "num=n\n",
    "d=0\n",
    "sum=0\n",
    "while(num!=0):\n",
    "    d=num%10\n",
    "    num=num//10\n",
    "    sum=sum*10+d\n",
    "print(f\"reverse of {n} is {sum}\")\n"
   ]
  }
 ],
 "metadata": {
  "kernelspec": {
   "display_name": "Python 3 (ipykernel)",
   "language": "python",
   "name": "python3"
  },
  "language_info": {
   "codemirror_mode": {
    "name": "ipython",
    "version": 3
   },
   "file_extension": ".py",
   "mimetype": "text/x-python",
   "name": "python",
   "nbconvert_exporter": "python",
   "pygments_lexer": "ipython3",
   "version": "3.12.4"
  }
 },
 "nbformat": 4,
 "nbformat_minor": 5
}
