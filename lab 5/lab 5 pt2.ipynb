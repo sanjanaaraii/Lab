{
 "cells": [
  {
   "cell_type": "markdown",
   "id": "62178b2c",
   "metadata": {},
   "source": [
    "# Python Programs Using Map and Lambda (Extended)"
   ]
  },
  {
   "cell_type": "markdown",
   "id": "1882027b",
   "metadata": {},
   "source": [
    "### 1. Compute squares of the first `n` Fibonacci numbers using `map`"
   ]
  },
  {
   "cell_type": "code",
   "execution_count": null,
   "id": "f0c50b0c",
   "metadata": {},
   "outputs": [],
   "source": [
    "\n",
    "def fibonacci(n):\n",
    "    fib_sequence = [0, 1]\n",
    "    for i in range(2, n):\n",
    "        fib_sequence.append(fib_sequence[-1] + fib_sequence[-2])\n",
    "    return fib_sequence[:n]\n",
    "\n",
    "n = 5  # Number of Fibonacci numbers to consider\n",
    "fib_numbers = fibonacci(n)\n",
    "fib_squares = list(map(lambda x: x * x, fib_numbers))\n",
    "print(\"Squares of first\", n, \"Fibonacci numbers:\", fib_squares)\n"
   ]
  },
  {
   "cell_type": "markdown",
   "id": "68dc5372",
   "metadata": {},
   "source": [
    "### 2. Compute the sum of elements in an array using `map`"
   ]
  },
  {
   "cell_type": "code",
   "execution_count": null,
   "id": "07805f8a",
   "metadata": {},
   "outputs": [],
   "source": [
    "\n",
    "from functools import reduce\n",
    "\n",
    "array = [1, 2, 3, 4, 5]\n",
    "sum_of_elements = reduce(lambda x, y: x + y, array)\n",
    "print(\"Sum of array elements:\", sum_of_elements)\n"
   ]
  },
  {
   "cell_type": "markdown",
   "id": "c2cea0fa",
   "metadata": {},
   "source": [
    "### 3. Create a new list from a tuple and convert strings to integers in Python"
   ]
  },
  {
   "cell_type": "code",
   "execution_count": null,
   "id": "fa3a8274",
   "metadata": {},
   "outputs": [],
   "source": [
    "\n",
    "tuple_data = (\"1\", \"2\", \"3\", \"4\")\n",
    "int_list = list(map(int, tuple_data))\n",
    "print(\"List of integers:\", int_list)\n"
   ]
  }
 ],
 "metadata": {},
 "nbformat": 4,
 "nbformat_minor": 5
}
