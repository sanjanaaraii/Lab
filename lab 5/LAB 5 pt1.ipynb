{
 "cells": [
  {
   "cell_type": "markdown",
   "id": "7e9e606a",
   "metadata": {},
   "source": [
    "# Python Programs Using Map and Lambda"
   ]
  },
  {
   "cell_type": "markdown",
   "id": "91068bc4",
   "metadata": {},
   "source": [
    "### 1. Triple all numbers in a list using `map`"
   ]
  },
  {
   "cell_type": "code",
   "execution_count": null,
   "id": "21163917",
   "metadata": {},
   "outputs": [],
   "source": [
    "\n",
    "def triple(num):\n",
    "    return num * 3\n",
    "\n",
    "nums = [1, 2, 3, 4, 5]\n",
    "tripled = list(map(triple, nums))\n",
    "print(\"Tripled List:\", tripled)\n"
   ]
  },
  {
   "cell_type": "markdown",
   "id": "26a93e3a",
   "metadata": {},
   "source": [
    "### 2. Add elements of three lists using `map` and `lambda`"
   ]
  },
  {
   "cell_type": "code",
   "execution_count": null,
   "id": "450e4131",
   "metadata": {},
   "outputs": [],
   "source": [
    "\n",
    "list1 = [1, 2, 3]\n",
    "list2 = [4, 5, 6]\n",
    "list3 = [7, 8, 9]\n",
    "result = list(map(lambda x, y, z: x + y + z, list1, list2, list3))\n",
    "print(\"Sum of Lists:\", result)\n"
   ]
  },
  {
   "cell_type": "markdown",
   "id": "38b8ae74",
   "metadata": {},
   "source": [
    "### 3. Convert list of strings to list of lists of characters using `map`"
   ]
  },
  {
   "cell_type": "code",
   "execution_count": null,
   "id": "14852445",
   "metadata": {},
   "outputs": [],
   "source": [
    "\n",
    "strings = [\"hello\", \"world\"]\n",
    "char_lists = list(map(list, strings))\n",
    "print(\"List of Character Lists:\", char_lists)\n"
   ]
  },
  {
   "cell_type": "markdown",
   "id": "db55d91b",
   "metadata": {},
   "source": [
    "### 4. Create a list of powers of numbers where the base is raised to the index using `map`"
   ]
  },
  {
   "cell_type": "code",
   "execution_count": null,
   "id": "98201c97",
   "metadata": {},
   "outputs": [],
   "source": [
    "\n",
    "nums = [1, 2, 8]\n",
    "powers = list(map(lambda b, i: b ** i, nums, range(len(nums))))\n",
    "print(\"Powers List:\", powers)\n"
   ]
  },
  {
   "cell_type": "markdown",
   "id": "aed6df8e",
   "metadata": {},
   "source": [
    "### 5. Square each element in a list using `map`"
   ]
  },
  {
   "cell_type": "code",
   "execution_count": null,
   "id": "d58fc058",
   "metadata": {},
   "outputs": [],
   "source": [
    "\n",
    "nums = [1, 2, 3]\n",
    "squares = list(map(lambda x: x * x, nums))\n",
    "print(\"Squared List:\", squares)\n"
   ]
  },
  {
   "cell_type": "markdown",
   "id": "fdeefb5f",
   "metadata": {},
   "source": [
    "### 6. Convert all characters to uppercase and lowercase, and eliminate duplicates"
   ]
  },
  {
   "cell_type": "code",
   "execution_count": null,
   "id": "6be18b2e",
   "metadata": {},
   "outputs": [],
   "source": [
    "\n",
    "seq = \"sequence\"\n",
    "upper_unique = \"\".join(set(map(str.upper, seq)))\n",
    "lower_unique = \"\".join(set(map(str.lower, seq)))\n",
    "print(\"Unique Uppercase Characters:\", upper_unique)\n",
    "print(\"Unique Lowercase Characters:\", lower_unique)\n"
   ]
  },
  {
   "cell_type": "markdown",
   "id": "55db56f2",
   "metadata": {},
   "source": [
    "### 7. Find the difference between corresponding elements in two lists using `map`"
   ]
  },
  {
   "cell_type": "code",
   "execution_count": null,
   "id": "c10dde61",
   "metadata": {},
   "outputs": [],
   "source": [
    "\n",
    "list1 = [1, 2, 3]\n",
    "list2 = [0, 1, 2]\n",
    "diff = list(map(lambda x, y: x - y, list1, list2))\n",
    "print(\"Difference List:\", diff)\n"
   ]
  },
  {
   "cell_type": "markdown",
   "id": "a5acfa74",
   "metadata": {},
   "source": [
    "### 8. Convert a list of integers and a tuple of integers to a list of strings"
   ]
  },
  {
   "cell_type": "code",
   "execution_count": null,
   "id": "b744b7f1",
   "metadata": {},
   "outputs": [],
   "source": [
    "\n",
    "nums = [1, 2, 3]\n",
    "tuple_nums = (5, 7)\n",
    "str_list_nums = list(map(str, nums))\n",
    "str_tuple_nums = list(map(str, tuple_nums))\n",
    "print(\"List of strings:\", str_list_nums)\n",
    "print(\"Tuple of strings:\", str_tuple_nums)\n"
   ]
  }
 ],
 "metadata": {},
 "nbformat": 4,
 "nbformat_minor": 5
}
