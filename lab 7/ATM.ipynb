{
 "cells": [
  {
   "cell_type": "code",
   "execution_count": null,
   "id": "0020d36e",
   "metadata": {},
   "outputs": [],
   "source": [
    "\n",
    "class ATM:\n",
    "    def __init__(self, acc_holder, balance=0):  # Constructor with double underscores\n",
    "        self.acc_holder = acc_holder\n",
    "        self.balance = balance\n",
    "\n",
    "    def check_balance(self):\n",
    "        return f\"{self.acc_holder}, Your current balance is: {self.balance:.2f}\"\n",
    "\n",
    "    def deposit(self, amount):\n",
    "        if amount > 0:\n",
    "            self.balance += amount\n",
    "            return f\"{self.acc_holder}, You deposited {amount:.2f}\\nYour current balance is {self.balance:.2f}\"\n",
    "        else:\n",
    "            return \"Transaction failed. Enter an amount greater than zero.\"\n",
    "\n",
    "    def withdrawal(self, amount):\n",
    "        if amount > self.balance:\n",
    "            return \"Withdrawal failed. Insufficient funds.\"\n",
    "        elif amount <= 0:\n",
    "            return \"Enter an amount greater than zero.\"\n",
    "        else:\n",
    "            self.balance -= amount\n",
    "            return f\"{self.acc_holder}, You withdrew {amount:.2f}\\nYour current balance is {self.balance:.2f}\"\n",
    "\n",
    "    def transfer(self, other_acc, amount):\n",
    "        if amount > self.balance:\n",
    "            return f\"{self.acc_holder}, You have insufficient funds for transfer.\"\n",
    "        else:\n",
    "            self.balance -= amount\n",
    "            other_acc.balance += amount\n",
    "            return f\"The amount {amount:.2f} has been transferred from account under {self.acc_holder} to account under {other_acc.acc_holder}\"\n"
   ]
  },
  {
   "cell_type": "code",
   "execution_count": null,
   "id": "76100b91",
   "metadata": {},
   "outputs": [],
   "source": [
    "\n",
    "# Creating instances of ATM\n",
    "my_acc = ATM(acc_holder=\"Anna\", balance=1000)\n",
    "other_acc = ATM(acc_holder=\"Jenny\", balance=300)\n",
    "\n",
    "# Testing the methods\n",
    "print(my_acc.check_balance())           # Check balance\n",
    "print(my_acc.deposit(400))              # Deposit\n",
    "print(my_acc.withdrawal(200))           # Withdrawal\n",
    "print(my_acc.transfer(other_acc, 500))  # Transfer\n",
    "print(other_acc.check_balance())        # Check balance of other account\n"
   ]
  }
 ],
 "metadata": {
  "language_info": {
   "name": "python"
  }
 },
 "nbformat": 4,
 "nbformat_minor": 5
}
